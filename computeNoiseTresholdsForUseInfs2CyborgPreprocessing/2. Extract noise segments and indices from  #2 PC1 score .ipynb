{
 "cells": [
  {
   "cell_type": "code",
   "execution_count": 16,
   "metadata": {},
   "outputs": [],
   "source": [
    "import breeze.linalg._\n",
    "import scala.io.Source\n",
    "import breeze.signal._"
   ]
  },
  {
   "cell_type": "code",
   "execution_count": 17,
   "metadata": {},
   "outputs": [
    {
     "data": {
      "text/plain": [
       "fileName = data/#2_PC1_score/part-00000\n"
      ]
     },
     "metadata": {},
     "output_type": "display_data"
    },
    {
     "data": {
      "text/plain": [
       "data/#2_PC1_score/part-00000"
      ]
     },
     "execution_count": 17,
     "metadata": {},
     "output_type": "execute_result"
    }
   ],
   "source": [
    "// take in #2 PC1 score (from Apache Spark SVD on entire #2 with 4 PCs)\n",
    "// as material for noise profile\n",
    "val fileName = \"data/#2_PC1_score/part-00000\""
   ]
  },
  {
   "cell_type": "code",
   "execution_count": 18,
   "metadata": {
    "scrolled": true
   },
   "outputs": [
    {
     "data": {
      "text/plain": [
       "Name: Error parsing magics!\n",
       "Message: Magic script does not exist!\n",
       "StackTrace: "
      ]
     },
     "execution_count": 18,
     "metadata": {},
     "output_type": "execute_result"
    }
   ],
   "source": [
    "%%script false\n",
    "%AddDeps org.vegas-viz vegas-spark_2.11 0.3.11 --transitive"
   ]
  },
  {
   "cell_type": "code",
   "execution_count": 19,
   "metadata": {},
   "outputs": [
    {
     "data": {
      "text/plain": [
       "experimentName = #2\n"
      ]
     },
     "metadata": {},
     "output_type": "display_data"
    },
    {
     "data": {
      "text/plain": [
       "noiseSegments: Unit = ()\n"
      ]
     },
     "metadata": {},
     "output_type": "display_data"
    },
    {
     "data": {
      "text/plain": [
       "#2"
      ]
     },
     "execution_count": 19,
     "metadata": {},
     "output_type": "execute_result"
    }
   ],
   "source": [
    "import scala.math.abs\n",
    "import vegas._\n",
    "\n",
    "val experimentName = \"#2\"\n",
    "\n",
    "val noiseSegments = {\n",
    " \n",
    "val samplingRate = 10000\n",
    "val secondStart = 0\n",
    "val secondEnd = 30\n",
    "val indexUntil = 10000\n",
    "\n",
    "val indexStart = samplingRate * secondStart\n",
    "val indexEnd = samplingRate * secondEnd\n",
    "\n",
    "// https://alvinalexander.com/source-code/scala-function-read-text-file-into-array-list\n",
    "def readFile(fileName: String, indexStart: Int, indexEnd: Int): Array[Double] = {\n",
    "    val bufferedSource = Source.fromFile(fileName)\n",
    "    val lines = (for (line <- bufferedSource\n",
    "                      .getLines\n",
    "                      //.slice(indexStart, indexEnd)\n",
    "                      //.take(indexUntil)\n",
    "                      .map(_.toDouble)) yield line).toArray\n",
    "    bufferedSource.close\n",
    "    lines\n",
    "}\n",
    "val data = readFile(fileName, indexStart, indexEnd)\n",
    "val maxValue = Array(abs(data.max), abs(data.min)).max\n",
    "val totalLength = data.length\n",
    "\n",
    "/*    \n",
    "// Prepare loadings for plotting\n",
    "// with Vegas\n",
    "var inputDataResult = data.toArray.zipWithIndex.map{ case (e, i) =>\n",
    "        Map(\"Seconds\" -> i/samplingRate.toDouble, \n",
    "            \"Magnitude\" -> e )\n",
    "        }\n",
    "        .toArray\n",
    "\n",
    "// Plot Loadings with Vegas\n",
    "Vegas(\"Score1 from raw data of \" + experimentName, width=1000, height=500)\n",
    "    .withData(inputDataResult)\n",
    "    .mark(Line)\n",
    "    .encodeY(\"Magnitude\", Quantitative)\n",
    "    .encodeX(\"Seconds\", Quantitative)\n",
    "    .show\n",
    "*/\n",
    "    \n",
    "// extract noise segments\n",
    "\n",
    "val fractionNoiseOfMaxValue = 0.27\n",
    "\n",
    "val noise = for {\n",
    "    (v, i) <- data.zipWithIndex\n",
    "    if (i < totalLength - samplingRate) && data.slice(i, i + samplingRate).forall(v => v < fractionNoiseOfMaxValue * maxValue)\n",
    "} yield (v, i)\n",
    "\n",
    "/*    \n",
    "// Prepare loadings for plotting\n",
    "// with Vegas\n",
    "var noisePrepared = noise.map{ case (e, i) =>\n",
    "        Map(\"Seconds\" -> i/samplingRate.toDouble, \n",
    "            \"Magnitude\" -> e )\n",
    "        }\n",
    "        .toArray\n",
    "// Plot Loadings with Vegas\n",
    "Vegas(\"Score1 LP from raw data of \" + experimentName, width=1000, height=500)\n",
    "    .withData(noisePrepared)\n",
    "    .mark(Line)\n",
    "    .encodeY(\"Magnitude\", Quantitative)\n",
    "    .encodeX(\"Seconds\", Quantitative)\n",
    "    .show\n",
    "*/\n",
    "val folderName = experimentName + \"_PC1_score_noise_segments\"\n",
    "sc.parallelize(noise).coalesce(1).saveAsTextFile(\"data/\" + folderName)\n",
    "}\n"
   ]
  }
 ],
 "metadata": {
  "kernelspec": {
   "display_name": "Apache Toree - Scala",
   "language": "scala",
   "name": "apache_toree_scala"
  },
  "language_info": {
   "codemirror_mode": "text/x-scala",
   "file_extension": ".scala",
   "mimetype": "text/x-scala",
   "name": "scala",
   "pygments_lexer": "scala",
   "version": "2.11.8"
  }
 },
 "nbformat": 4,
 "nbformat_minor": 2
}
